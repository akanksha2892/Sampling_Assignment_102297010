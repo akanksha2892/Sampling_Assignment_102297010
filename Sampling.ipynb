{
  "nbformat": 4,
  "nbformat_minor": 0,
  "metadata": {
    "colab": {
      "provenance": []
    },
    "kernelspec": {
      "name": "python3",
      "display_name": "Python 3"
    },
    "language_info": {
      "name": "python"
    }
  },
  "cells": [
    {
      "cell_type": "code",
      "execution_count": null,
      "metadata": {
        "id": "bFORyouOQlv_"
      },
      "outputs": [],
      "source": [
        "import pandas as pd\n",
        "import numpy as np\n",
        "from imblearn.under_sampling import RandomUnderSampler\n",
        "from scipy import stats\n",
        "from sklearn.model_selection import train_test_split\n",
        "from sklearn.linear_model import LogisticRegression\n",
        "from sklearn.tree import DecisionTreeClassifier\n",
        "from sklearn.ensemble import RandomForestClassifier, GradientBoostingClassifier\n",
        "from sklearn.svm import SVC\n",
        "from sklearn.metrics import accuracy_score, classification_report\n",
        "from sklearn.model_selection import StratifiedShuffleSplit\n",
        "from sklearn.preprocessing import StandardScaler"
      ]
    },
    {
      "cell_type": "code",
      "source": [
        "#Balancing dataset\n",
        "\n",
        "df=pd.read_csv('Creditcard_data.csv')\n",
        "X = df.drop('Class', axis=1)\n",
        "y = df['Class']\n",
        "sampler = RandomUnderSampler( random_state=42)            #undersampling\n",
        "X_resampled, y_resampled = sampler.fit_resample(X, y)\n",
        "print(\"Class Distribution in Resampled Data:\")\n",
        "print(y_resampled.value_counts())\n",
        "\n",
        "# Scaling features\n",
        "scaler = StandardScaler()\n",
        "X_resampled_scaled = scaler.fit_transform(X_resampled)\n",
        "\n",
        "balanced_df = pd.concat([pd.DataFrame(X_resampled, columns=X.columns), pd.Series(y_resampled, name='Class')], axis=1)\n",
        "print(balanced_df)"
      ],
      "metadata": {
        "id": "LFk1IwbVTKwl"
      },
      "execution_count": null,
      "outputs": []
    },
    {
      "cell_type": "code",
      "source": [
        "#Creating 5 samples\n",
        "\n",
        "num_samples = 5\n",
        "sample_sizes = np.linspace(0.2, 1.0, num_samples)\n",
        "\n",
        "samples = []\n",
        "for size in sample_sizes:\n",
        "    sample_size = int(len(balanced_df) * size)\n",
        "    sample_size = max(sample_size, 1)\n",
        "    sample = balanced_df.sample(n=sample_size, random_state=42)  # Random state for reproducibility\n",
        "    samples.append(sample)\n",
        "for i, sample in enumerate(samples):\n",
        "    print(f\"Sample {i+1} (Size: {len(sample)}):\\n\", sample.head(), \"\\n\")\n"
      ],
      "metadata": {
        "id": "d5sCEdT9SYLl"
      },
      "execution_count": null,
      "outputs": []
    },
    {
      "cell_type": "code",
      "source": [
        "\n",
        "models = [\n",
        "    LogisticRegression(random_state=42),\n",
        "    DecisionTreeClassifier(random_state=42),\n",
        "    RandomForestClassifier(random_state=42),\n",
        "    GradientBoostingClassifier(random_state=42),\n",
        "    SVC(random_state=42)\n",
        "]\n",
        "\n",
        "for i, sample in enumerate(samples):\n",
        "    X_sample = sample\n",
        "    y_sample = y_resampled[:len(sample)]\n",
        "    X_sample = X_sample.drop(['Class'], axis=1)\n",
        "    # Apply each model to the current sample\n",
        "    for model in models:\n",
        "        # Train the model\n",
        "        model.fit(X_resampled_scaled, y_resampled)\n",
        "\n",
        "\n",
        "        y_pred = model.predict(X_sample)\n",
        "        accuracy = accuracy_score(y_sample, y_pred)\n",
        "        report = classification_report(y_sample, y_pred)\n",
        "\n",
        "        # Print results\n",
        "        print(f\"\\nModel: {model.__class__.__name__} on Sample {i+1}\")\n",
        "        print(f\"Accuracy: {accuracy:.4f}\")\n"
      ],
      "metadata": {
        "id": "RjP4fS5QZPfL"
      },
      "execution_count": null,
      "outputs": []
    }
  ]
}